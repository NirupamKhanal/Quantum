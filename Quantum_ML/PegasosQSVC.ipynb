{
 "cells": [
  {
   "cell_type": "code",
   "execution_count": 2,
   "id": "1c1b3c4b",
   "metadata": {},
   "outputs": [],
   "source": [
    "from sklearn.datasets import make_blobs\n",
    "\n",
    "# Example dataset\n",
    "features, labels = make_blobs(n_samples=20, n_features=2, centers=2, random_state=3, shuffle=True)"
   ]
  },
  {
   "cell_type": "code",
   "execution_count": 4,
   "id": "4f98ddb0",
   "metadata": {},
   "outputs": [],
   "source": [
    "# Pre-processing \n",
    "import numpy as np\n",
    "from sklearn.model_selection import train_test_split\n",
    "from sklearn.preprocessing import MinMaxScaler\n",
    "\n",
    "features = MinMaxScaler(feature_range=(0, np.pi)).fit_transform(features)\n",
    "\n",
    "train_features, test_features, train_labels, test_labels = train_test_split(features, labels, train_size=15, shuffle=False)"
   ]
  },
  {
   "cell_type": "code",
   "execution_count": 5,
   "id": "eb3285c2",
   "metadata": {},
   "outputs": [],
   "source": [
    "# no. quibits = no. features\n",
    "num_qubits = 2\n",
    "\n",
    "# no. steps performed during training \n",
    "tau = 100\n",
    "\n",
    "# regularization\n",
    "C = 1000"
   ]
  },
  {
   "cell_type": "code",
   "execution_count": 6,
   "id": "24c681ff",
   "metadata": {},
   "outputs": [],
   "source": [
    "from qiskit.circuit.library import ZFeatureMap\n",
    "from qiskit_machine_learning.utils import algorithm_globals\n",
    "from qiskit_machine_learning.kernels import FidelityQuantumKernel\n",
    "from qiskit_machine_learning.state_fidelities import ComputeUncompute\n",
    "from qiskit.primitives import StatevectorSampler as Sampler\n",
    "\n",
    "sampler = Sampler()\n",
    "fidelity = ComputeUncompute(sampler=sampler)\n",
    "\n",
    "algorithm_globals.random_seed = 12345\n",
    "\n",
    "feature_map = ZFeatureMap(feature_dimension=num_qubits, reps=1)\n",
    "\n",
    "qkernel = FidelityQuantumKernel(fidelity=fidelity, feature_map=feature_map)"
   ]
  },
  {
   "cell_type": "code",
   "execution_count": 7,
   "id": "67d52425",
   "metadata": {},
   "outputs": [
    {
     "name": "stdout",
     "output_type": "stream",
     "text": [
      "PegasosQSVC classification test score: 1.0\n"
     ]
    }
   ],
   "source": [
    "from qiskit_machine_learning.algorithms import PegasosQSVC\n",
    "\n",
    "pegasos_qsvc = PegasosQSVC(quantum_kernel=qkernel, C=C, num_steps=tau)\n",
    "\n",
    "# training \n",
    "pegasos_qsvc.fit(train_features, train_labels)\n",
    "\n",
    "# testing\n",
    "pegasos_score = pegasos_qsvc.score(test_features, test_labels)\n",
    "\n",
    "print(f\"PegasosQSVC classification test score: {pegasos_score}\")"
   ]
  },
  {
   "cell_type": "code",
   "execution_count": 8,
   "id": "07caf45a",
   "metadata": {},
   "outputs": [],
   "source": [
    "grid_step = 0.2\n",
    "margin = 0.2\n",
    "grid_x, grid_y = np.meshgrid(np.arange(-margin, np.pi + margin, grid_step), np.arange(-margin, np.pi + margin, grid_step))"
   ]
  },
  {
   "cell_type": "code",
   "execution_count": 10,
   "id": "3fd514fd",
   "metadata": {},
   "outputs": [],
   "source": [
    "meshgrid_features = np.column_stack((grid_x.ravel(), grid_y.ravel()))\n",
    "meshgrid_colors = pegasos_qsvc.predict(meshgrid_features)"
   ]
  },
  {
   "cell_type": "code",
   "execution_count": 11,
   "id": "410875c2",
   "metadata": {},
   "outputs": [
    {
     "data": {
      "image/png": "[encoded data removed]",
      "text/plain": [
       "<Figure size 500x500 with 1 Axes>"
      ]
     },
     "metadata": {},
     "output_type": "display_data"
    }
   ],
   "source": [
    "import matplotlib.pyplot as plt \n",
    "\n",
    "plt.figure(figsize=(5,5))\n",
    "meshgrid_colors = meshgrid_colors.reshape(grid_x.shape)\n",
    "plt.pcolormesh(grid_x, grid_y, meshgrid_colors, cmap=\"RdBu\", shading=\"auto\")\n",
    "\n",
    "plt.scatter(\n",
    "    train_features[:, 0][train_labels == 0],\n",
    "    train_features[:, 1][train_labels == 0],\n",
    "    marker=\"s\",\n",
    "    facecolors=\"w\",\n",
    "    edgecolors=\"r\",\n",
    "    label=\"A train\",\n",
    ")\n",
    "plt.scatter(\n",
    "    train_features[:, 0][train_labels == 1],\n",
    "    train_features[:, 1][train_labels == 1],\n",
    "    marker=\"o\",\n",
    "    facecolors=\"w\",\n",
    "    edgecolors=\"b\",\n",
    "    label=\"B train\",\n",
    ")\n",
    "\n",
    "plt.scatter(\n",
    "    test_features[:, 0][test_labels == 0],\n",
    "    test_features[:, 1][test_labels == 0],\n",
    "    marker=\"s\",\n",
    "    facecolors=\"r\",\n",
    "    edgecolors=\"r\",\n",
    "    label=\"A test\",\n",
    ")\n",
    "plt.scatter(\n",
    "    test_features[:, 0][test_labels == 1],\n",
    "    test_features[:, 1][test_labels == 1],\n",
    "    marker=\"o\",\n",
    "    facecolors=\"b\",\n",
    "    edgecolors=\"b\",\n",
    "    label=\"B test\",\n",
    ")\n",
    "\n",
    "plt.legend(bbox_to_anchor=(1.05, 1), loc=\"upper left\", borderaxespad=0.0)\n",
    "plt.title(\"Pegasos Classification\")\n",
    "plt.show()"
   ]
  }
 ],
 "metadata": {
  "kernelspec": {
   "display_name": "Python 3 (ipykernel)",
   "language": "python",
   "name": "python3"
  },
  "language_info": {
   "codemirror_mode": {
    "name": "ipython",
    "version": 3
   },
   "file_extension": ".py",
   "mimetype": "text/x-python",
   "name": "python",
   "nbconvert_exporter": "python",
   "pygments_lexer": "ipython3",
   "version": "3.11.11"
  }
 },
 "nbformat": 4,
 "nbformat_minor": 5
}
